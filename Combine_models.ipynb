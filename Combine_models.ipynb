{
 "cells": [
  {
   "cell_type": "code",
   "execution_count": 119,
   "metadata": {},
   "outputs": [],
   "source": [
    "import pandas as pd\n",
    "import numpy as np\n",
    "from sklearn.model_selection import train_test_split\n",
    "from sklearn.linear_model import LinearRegression"
   ]
  },
  {
   "cell_type": "markdown",
   "metadata": {},
   "source": [
    "## Variable declaration"
   ]
  },
  {
   "cell_type": "code",
   "execution_count": 120,
   "metadata": {},
   "outputs": [],
   "source": [
    "Clock_result = \"/mnt/NAS_PROJECT/vol_Phucteam/CONGNGUYEN/pipeline/Biological_age/dnaMethyAge_Multi-model/GSE90124/Results/GSE90124_Merged_Multi_Clock.tsv\"\n",
    "number_of_selected_model = [\"mAge_HorvathS2018\",\"mAge_BernabeuE2023c\",\"mAge_ShirebyG2020\"]"
   ]
  },
  {
   "cell_type": "markdown",
   "metadata": {},
   "source": [
    "## Select the best performance models"
   ]
  },
  {
   "cell_type": "code",
   "execution_count": 121,
   "metadata": {},
   "outputs": [
    {
     "name": "stdout",
     "output_type": "stream",
     "text": [
      "     Age  mAge_HorvathS2018  mAge_BernabeuE2023c  mAge_ShirebyG2020\n",
      "0  65.14          64.016003            52.031383          64.252379\n",
      "1  65.14          68.855760            53.288873          71.942673\n",
      "2  46.02          53.501029            44.105950          60.317771\n",
      "3  50.62          54.211210            43.264171          54.296012\n",
      "4  50.62          52.464813            42.919258          53.578556\n",
      "(322, 4)\n"
     ]
    }
   ],
   "source": [
    "predicted_value = pd.read_csv(Clock_result,sep=\",\")\n",
    "\n",
    "#Remove column with the header AgeAcc_*\n",
    "predicted_value = predicted_value.loc[:,~predicted_value.columns.str.contains(\"AgeAcc_\")]\n",
    "\n",
    "#Select the columns: Sample, Age, and column in the list number_of_selected_model\n",
    "predicted_value = predicted_value[[\"Age\"]+number_of_selected_model]\n",
    "print(predicted_value.head())\n",
    "print(predicted_value.shape)\n"
   ]
  },
  {
   "cell_type": "code",
   "execution_count": 122,
   "metadata": {},
   "outputs": [
    {
     "name": "stdout",
     "output_type": "stream",
     "text": [
      "(257, 3)\n",
      "(65, 3)\n",
      "LinearRegression()\n"
     ]
    }
   ],
   "source": [
    "# Split data into training and testing sets\n",
    "X = predicted_value[number_of_selected_model]\n",
    "y = predicted_value[\"Age\"]\n",
    "x_train, x_test, y_train, y_test = train_test_split(X, y, test_size=0.2, random_state=42)\n",
    "print(x_train.shape)\n",
    "print(x_test.shape)\n",
    "\n",
    "# Fit the linear regression model\n",
    "regressor = LinearRegression()\n",
    "regressor.fit(x_train, y_train)\n",
    "\n",
    "print(regressor)"
   ]
  },
  {
   "cell_type": "markdown",
   "metadata": {},
   "source": [
    "## Apply new regression model on the test dataset"
   ]
  },
  {
   "cell_type": "code",
   "execution_count": 123,
   "metadata": {},
   "outputs": [
    {
     "name": "stdout",
     "output_type": "stream",
     "text": [
      "     Actual  Predicted\n",
      "173   59.10  60.843220\n",
      "132   63.35  66.567618\n",
      "197   52.24  42.213540\n",
      "9     63.50  60.765942\n",
      "104   60.61  64.391832\n",
      "..      ...        ...\n",
      "229   56.21  56.136407\n",
      "60    62.08  69.474134\n",
      "244   44.95  47.291552\n",
      "261   70.10  62.203221\n",
      "118   74.41  77.444178\n",
      "\n",
      "[65 rows x 2 columns]\n"
     ]
    }
   ],
   "source": [
    "# Predict on the test data\n",
    "y_pred = regressor.predict(x_test)\n",
    "\n",
    "# Compare predicted values with actual values\n",
    "comparison_df = pd.DataFrame({\"Actual\": y_test, \"Predicted\": y_pred})\n",
    "print(comparison_df)\n"
   ]
  },
  {
   "cell_type": "markdown",
   "metadata": {},
   "source": [
    "## Calculate the Pearson correlation coefficient"
   ]
  },
  {
   "cell_type": "code",
   "execution_count": 124,
   "metadata": {},
   "outputs": [
    {
     "name": "stdout",
     "output_type": "stream",
     "text": [
      "Pearson correlation coefficient: 0.8981\n",
      "Mean absolute difference: 3.6870\n",
      "Root mean squared difference: 4.5532\n"
     ]
    }
   ],
   "source": [
    "# Calculate the correlation matrix\n",
    "correlation_matrix = comparison_df.corr()\n",
    "\n",
    "# Print the correlation coefficient\n",
    "pearson_corr = correlation_matrix.loc[\"Actual\", \"Predicted\"]\n",
    "print(f\"Pearson correlation coefficient: {pearson_corr:.4f}\")\n",
    "\n",
    "# Calculate the MAD and RMSD\n",
    "mean_abs_diff = np.mean(np.abs(y_test - y_pred))\n",
    "root_mean_sq_diff = np.sqrt(np.mean((y_test - y_pred) ** 2))\n",
    "print(f\"Mean absolute difference: {mean_abs_diff:.4f}\")\n",
    "print(f\"Root mean squared difference: {root_mean_sq_diff:.4f}\")"
   ]
  }
 ],
 "metadata": {
  "kernelspec": {
   "display_name": "base",
   "language": "python",
   "name": "python3"
  },
  "language_info": {
   "codemirror_mode": {
    "name": "ipython",
    "version": 3
   },
   "file_extension": ".py",
   "mimetype": "text/x-python",
   "name": "python",
   "nbconvert_exporter": "python",
   "pygments_lexer": "ipython3",
   "version": "3.11.5"
  }
 },
 "nbformat": 4,
 "nbformat_minor": 2
}
